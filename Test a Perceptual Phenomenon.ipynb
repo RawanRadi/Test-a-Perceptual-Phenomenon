{
 "cells": [
  {
   "cell_type": "markdown",
   "metadata": {},
   "source": [
    "<style>\n",
    "th {\n",
    "background-color:#55FF33;\n",
    "}\n",
    "td {\n",
    "background-color:#00FFFF;\n",
    "}\n",
    "</style>"
   ]
  },
  {
   "cell_type": "markdown",
   "metadata": {},
   "source": [
    "### Analyzing the Stroop Effect\n",
    "Perform the analysis in the space below. Remember to follow [the instructions](https://docs.google.com/document/d/1-OkpZLjG_kX9J6LIQ5IltsqMzVWjh36QpnP2RYpVdPU/pub?embedded=True) and review the [project rubric](https://review.udacity.com/#!/rubrics/71/view) before submitting. Once you've completed the analysis and write-up, download this file as a PDF or HTML file, upload that PDF/HTML into the workspace here (click on the orange Jupyter icon in the upper left then Upload), then use the Submit Project button at the bottom of this page. This will create a zip file containing both this .ipynb doc and the PDF/HTML doc that will be submitted for your project.\n",
    "\n",
    "\n",
    "**(1) What is the independent variable? What is the dependent variable?**"
   ]
  },
  {
   "cell_type": "markdown",
   "metadata": {},
   "source": [
    "**Independent variable:** congruency of the colour and text\n",
    "<br/> **Dependent variable:** Duration (time) to recognise the colours or the texts"
   ]
  },
  {
   "cell_type": "markdown",
   "metadata": {},
   "source": [
    "**(2) What is an appropriate set of hypotheses for this task? Specify your null and alternative hypotheses, and clearly define any notation used. Justify your choices.**"
   ]
  },
  {
   "cell_type": "markdown",
   "metadata": {},
   "source": [
    "I can calculate the mean of test under congruent and incongruent conditions so I've chosen the dependent t-test.\n",
    "<br/>The dependent t-test  compares the means of two related groups to determine whether there is a statistically significant difference between these means..<a href='#refernce1'>[1]</a><br/>\n",
    "\n",
    "***μC***:The population's mean of congruent reaction time.<br/>\n",
    "***μI***: The population's mean of incongruent reaction time. <br/>\n",
    "\n",
    "**An appropriate set of hypotheses**\n",
    "\n",
    "<table> \n",
    "<tr><th>Null Hypothesis</th>  <th>Alternative Hypothesis</th></tr>\n",
    "<tr><td>The population mean of the congruent (μC) equals the hypothesized mean of the incongruent (μI). </td>\n",
    "<td>The population mean of the congruent (μC) does not equal the hypothesized mean of the incongruent (μI).</td>   \n",
    "</tr>\n",
    "\n",
    "</table>\n",
    "\n",
    "\n",
    "\n",
    "**The mathematical representations of the null and alternative hypotheses are defined below:<br/>**\n",
    "\n",
    "**H0**: μC = μI<br/>\n",
    "**H1**: μC ≠ μI   <br/>\n",
    "\n"
   ]
  },
  {
   "cell_type": "markdown",
   "metadata": {},
   "source": [
    "**(3) Report some descriptive statistics regarding this dataset. Include at least one measure of central tendency and at least one measure of variability. The name of the data file is 'stroopdata.csv'.**"
   ]
  },
  {
   "cell_type": "code",
   "execution_count": 1,
   "metadata": {},
   "outputs": [
    {
     "data": {
      "text/html": [
       "<style>table {font-family: arial, sans-serif;  border-collapse: collapse;}td, th {border: 1px solid #dddddd; text-align: centre;padding: 8px;}tr:nth-child(even) {background-color: #dddddd;}</style>"
      ],
      "text/plain": [
       "<IPython.core.display.HTML object>"
      ]
     },
     "execution_count": 1,
     "metadata": {},
     "output_type": "execute_result"
    }
   ],
   "source": [
    "import pandas as pd\n",
    "import numpy as np\n",
    "import scipy.stats as stats\n",
    "from IPython.display import HTML\n",
    "from urllib.request import urlopen\n",
    "%matplotlib inline\n",
    "import matplotlib.pyplot as plt \n",
    "HTML(\"<style>table {font-family: arial, sans-serif;  border-collapse: collapse;}td, th {border: 1px solid #dddddd; text-align: centre;padding: 8px;}tr:nth-child(even) {background-color: #dddddd;}</style>\")"
   ]
  },
  {
   "cell_type": "code",
   "execution_count": 2,
   "metadata": {},
   "outputs": [],
   "source": [
    "df= pd.read_csv('stroopdata.csv')"
   ]
  },
  {
   "cell_type": "code",
   "execution_count": 3,
   "metadata": {},
   "outputs": [
    {
     "data": {
      "text/html": [
       "<div>\n",
       "<style>\n",
       "    .dataframe thead tr:only-child th {\n",
       "        text-align: right;\n",
       "    }\n",
       "\n",
       "    .dataframe thead th {\n",
       "        text-align: left;\n",
       "    }\n",
       "\n",
       "    .dataframe tbody tr th {\n",
       "        vertical-align: top;\n",
       "    }\n",
       "</style>\n",
       "<table border=\"1\" class=\"dataframe\">\n",
       "  <thead>\n",
       "    <tr style=\"text-align: right;\">\n",
       "      <th></th>\n",
       "      <th>Congruent</th>\n",
       "      <th>Incongruent</th>\n",
       "    </tr>\n",
       "  </thead>\n",
       "  <tbody>\n",
       "    <tr>\n",
       "      <th>0</th>\n",
       "      <td>12.079</td>\n",
       "      <td>19.278</td>\n",
       "    </tr>\n",
       "    <tr>\n",
       "      <th>1</th>\n",
       "      <td>16.791</td>\n",
       "      <td>18.741</td>\n",
       "    </tr>\n",
       "    <tr>\n",
       "      <th>2</th>\n",
       "      <td>9.564</td>\n",
       "      <td>21.214</td>\n",
       "    </tr>\n",
       "    <tr>\n",
       "      <th>3</th>\n",
       "      <td>8.630</td>\n",
       "      <td>15.687</td>\n",
       "    </tr>\n",
       "    <tr>\n",
       "      <th>4</th>\n",
       "      <td>14.669</td>\n",
       "      <td>22.803</td>\n",
       "    </tr>\n",
       "  </tbody>\n",
       "</table>\n",
       "</div>"
      ],
      "text/plain": [
       "   Congruent  Incongruent\n",
       "0     12.079       19.278\n",
       "1     16.791       18.741\n",
       "2      9.564       21.214\n",
       "3      8.630       15.687\n",
       "4     14.669       22.803"
      ]
     },
     "execution_count": 3,
     "metadata": {},
     "output_type": "execute_result"
    }
   ],
   "source": [
    "df.head()"
   ]
  },
  {
   "cell_type": "code",
   "execution_count": 4,
   "metadata": {},
   "outputs": [
    {
     "name": "stdout",
     "output_type": "stream",
     "text": [
      "<class 'pandas.core.frame.DataFrame'>\n",
      "RangeIndex: 24 entries, 0 to 23\n",
      "Data columns (total 2 columns):\n",
      "Congruent      24 non-null float64\n",
      "Incongruent    24 non-null float64\n",
      "dtypes: float64(2)\n",
      "memory usage: 464.0 bytes\n"
     ]
    }
   ],
   "source": [
    "df.info()"
   ]
  },
  {
   "cell_type": "code",
   "execution_count": 5,
   "metadata": {},
   "outputs": [
    {
     "data": {
      "text/html": [
       "<div>\n",
       "<style>\n",
       "    .dataframe thead tr:only-child th {\n",
       "        text-align: right;\n",
       "    }\n",
       "\n",
       "    .dataframe thead th {\n",
       "        text-align: left;\n",
       "    }\n",
       "\n",
       "    .dataframe tbody tr th {\n",
       "        vertical-align: top;\n",
       "    }\n",
       "</style>\n",
       "<table border=\"1\" class=\"dataframe\">\n",
       "  <thead>\n",
       "    <tr style=\"text-align: right;\">\n",
       "      <th></th>\n",
       "      <th>Congruent</th>\n",
       "      <th>Incongruent</th>\n",
       "    </tr>\n",
       "  </thead>\n",
       "  <tbody>\n",
       "    <tr>\n",
       "      <th>count</th>\n",
       "      <td>24.000000</td>\n",
       "      <td>24.000000</td>\n",
       "    </tr>\n",
       "    <tr>\n",
       "      <th>mean</th>\n",
       "      <td>14.051125</td>\n",
       "      <td>22.015917</td>\n",
       "    </tr>\n",
       "    <tr>\n",
       "      <th>std</th>\n",
       "      <td>3.559358</td>\n",
       "      <td>4.797057</td>\n",
       "    </tr>\n",
       "    <tr>\n",
       "      <th>min</th>\n",
       "      <td>8.630000</td>\n",
       "      <td>15.687000</td>\n",
       "    </tr>\n",
       "    <tr>\n",
       "      <th>25%</th>\n",
       "      <td>11.895250</td>\n",
       "      <td>18.716750</td>\n",
       "    </tr>\n",
       "    <tr>\n",
       "      <th>50%</th>\n",
       "      <td>14.356500</td>\n",
       "      <td>21.017500</td>\n",
       "    </tr>\n",
       "    <tr>\n",
       "      <th>75%</th>\n",
       "      <td>16.200750</td>\n",
       "      <td>24.051500</td>\n",
       "    </tr>\n",
       "    <tr>\n",
       "      <th>max</th>\n",
       "      <td>22.328000</td>\n",
       "      <td>35.255000</td>\n",
       "    </tr>\n",
       "  </tbody>\n",
       "</table>\n",
       "</div>"
      ],
      "text/plain": [
       "       Congruent  Incongruent\n",
       "count  24.000000    24.000000\n",
       "mean   14.051125    22.015917\n",
       "std     3.559358     4.797057\n",
       "min     8.630000    15.687000\n",
       "25%    11.895250    18.716750\n",
       "50%    14.356500    21.017500\n",
       "75%    16.200750    24.051500\n",
       "max    22.328000    35.255000"
      ]
     },
     "execution_count": 5,
     "metadata": {},
     "output_type": "execute_result"
    }
   ],
   "source": [
    "df.describe()"
   ]
  },
  {
   "cell_type": "markdown",
   "metadata": {},
   "source": [
    "**The mean of congruent sample μC is:** 14.05<br/>\n",
    "**The mean of incongruent sample μI is:** 22.01"
   ]
  },
  {
   "cell_type": "markdown",
   "metadata": {},
   "source": [
    "(4) Provide one or two visualizations that show the distribution of the sample data. Write one or two sentences noting what you observe about the plot or plots."
   ]
  },
  {
   "cell_type": "code",
   "execution_count": 6,
   "metadata": {},
   "outputs": [
    {
     "data": {
      "image/png": "[encoded data removed]",
      "text/plain": [
       "<matplotlib.figure.Figure at 0x7fbfed514128>"
      ]
     },
     "metadata": {
      "needs_background": "light"
     },
     "output_type": "display_data"
    }
   ],
   "source": [
    "plt.hist(df['Congruent'],color='blue',alpha=0.5,label='Congruent')\n",
    "plt.hist(df['Incongruent'],color='green',alpha=0.5,label='Incongruent')\n",
    "plt.legend(loc='upper right')\n",
    "plt.title('Histogram of Stroop Effect Data')\n",
    "plt.ylabel('Count')\n",
    "plt.xlabel('Reaction Time in Seconds')\n",
    "plt.show()"
   ]
  },
  {
   "cell_type": "markdown",
   "metadata": {},
   "source": [
    "From the histogram above the participants took longer time to compelete incongruent test more than congruent test.<br/>\n",
    "Reaction time of incongruent tasks is right skewed with some outliers.\n"
   ]
  },
  {
   "cell_type": "code",
   "execution_count": 7,
   "metadata": {},
   "outputs": [
    {
     "data": {
      "image/png": "[encoded data removed]",
      "text/plain": [
       "<matplotlib.figure.Figure at 0x7fbfeb4bd470>"
      ]
     },
     "metadata": {
      "needs_background": "light"
     },
     "output_type": "display_data"
    }
   ],
   "source": [
    "plt.plot(df['Congruent'],color='blue',label='Congruent')\n",
    "plt.plot(df['Incongruent'],color='green',label='Incongruent')\n",
    "plt.legend(loc='upper right')\n",
    "plt.title('Line Graph of Stroop Effect')\n",
    "plt.ylabel('Reaction Time in Seconds')\n",
    "plt.xlabel('Count')\n",
    "plt.show()"
   ]
  },
  {
   "cell_type": "markdown",
   "metadata": {},
   "source": [
    "The graph above visualize the time spent by participants to respond in congruent and incongruent tests, congruent time line almost does not exceed 20 seconds while congruent time line almost more than 20 to 35.\n",
    "    "
   ]
  },
  {
   "cell_type": "markdown",
   "metadata": {},
   "source": [
    "**(5)  Now, perform the statistical test and report your results. What is your confidence level or Type I error associated with your test? What is your conclusion regarding the hypotheses you set up? Did the results match up with your expectations? **Hint:**  **Think about what is being measured on each individual, and what statistic best captures how an individual reacts in each environment.**"
   ]
  },
  {
   "cell_type": "code",
   "execution_count": 8,
   "metadata": {},
   "outputs": [
    {
     "name": "stdout",
     "output_type": "stream",
     "text": [
      "t-statistic= -8.020706944109957\n",
      "Degrees of freedom= 23\n",
      "Alpha α= 0.05\n",
      "The critical value= -1.7138715277470478 , 1.7138715277470478\n",
      "The p-value= 4.103000585711178e-08\n"
     ]
    }
   ],
   "source": [
    "# Calculate the mean \n",
    "c_mean, Inc_mean = df['Congruent'].mean(), df['Incongruent'].mean()\n",
    "\n",
    "# Calculate the difference of means\n",
    "diff_mean= c_mean - Inc_mean\n",
    "\n",
    "# Calculate the standard deviation of differences\n",
    "std= (df['Incongruent'] - df['Congruent']).std()\n",
    "\n",
    "# calculate the t statistic\n",
    "t_stat = diff_mean/(std/(df.shape[0]**(.5)))\n",
    "\n",
    "# degrees of freedom (number of observations -1) \n",
    "dg_f =len(df) - 1\n",
    "\n",
    "# calculate the critical value\n",
    "alpha = 0.05\n",
    "cv = stats.t.ppf( alpha, dg_f)\n",
    "\n",
    "# calculate the p-value\n",
    "p = 2*(stats.t.cdf(t_stat, dg_f))\n",
    "\n",
    "print('t-statistic= {}'.format(t_stat))\n",
    "\n",
    "print('Degrees of freedom= {}'.format(dg_f))\n",
    "print('Alpha α= {}'.format(alpha))\n",
    "print('The critical value= {} , {}'.format(cv,-cv))\n",
    "print('The p-value= {}'.format(p))"
   ]
  },
  {
   "cell_type": "markdown",
   "metadata": {},
   "source": [
    "**If p-value ≤ α then reject the null hypotheses H0, there is a significant difference between the means of samples.** \n",
    "\n",
    "\n",
    "<b/>\n",
    "Our p-value= 1.4.103000585711178e-08- and α= .05 so we will reject the null hypotheses H0 with 95% confidence level\n"
   ]
  },
  {
   "cell_type": "markdown",
   "metadata": {},
   "source": [
    "<h2>References:</h2>\n",
    "<a id='refernce1' href='https://statistics.laerd.com/statistical-guides/dependent-t-test-statistical-guide.php'>Dependent t-test</a>\n",
    "<br/>\n",
    "<a id='refernce3' href=\"https://stats.stackexchange.com/a/271274\">Using SciPy T.ppf to get p-value\n",
    "</a>"
   ]
  }
 ],
 "metadata": {
  "kernelspec": {
   "display_name": "Python 3",
   "language": "python",
   "name": "python3"
  },
  "language_info": {
   "codemirror_mode": {
    "name": "ipython",
    "version": 3
   },
   "file_extension": ".py",
   "mimetype": "text/x-python",
   "name": "python",
   "nbconvert_exporter": "python",
   "pygments_lexer": "ipython3",
   "version": "3.6.3"
  }
 },
 "nbformat": 4,
 "nbformat_minor": 2
}
